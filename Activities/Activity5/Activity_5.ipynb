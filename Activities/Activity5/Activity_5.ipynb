{
  "cells": [
    {
      "cell_type": "markdown",
      "metadata": {
        "id": "-yqCDX9ecHM_"
      },
      "source": [
        "# Actividad (Parte 5) Explicabilidad usando contraejemplos\n",
        "## Materia: Inteligencia Artificial Explicable - MSc. Inteligencia Artificial\n",
        "Author: Esteban García-Cuesta, Departamento de Inteligencia Artificial, UPM (License CC-BY-NC)\n",
        "\n",
        "Modificaciones hechas por Grupo 1:\n",
        "<ul>\n",
        "<li>Lidia Abad Azcutia</li>\n",
        "<li>Sergio Arroni del Riego</li>\n",
        "<li>David González Fernández</li>\n",
        "</ul>\n",
        "\n",
        "This code has been developed to be used exclusively for educational purposes.\n",
        "\n",
        "## Introducción\n",
        "La explicabilidad con contraejemplos permite conocer el funcionamiento del modelo modificando las entradas e identificar las opciones posibles para revertir una decisión no favorable. En esta actividad utilizaras la base de datos Heart Disease UCI Machine Learning Repository.\n",
        "\n",
        "## Objetivos:\n",
        "  - Aprender como obtener un contraejemplo dado un caso\n",
        "  - Aprender a obtener un mejor contraejemplo usando el parámetro $\\lambda$ de la fórmula de Watcher $\\lambda (f_{\\theta}(x')-y')+d(x^e-x')$\n",
        "  - Aprender a aplicar en un caso de reversión de decisión las técnicas de contraejemplo e interpretar los resultados\n",
        "\n",
        "## Para hacer\n",
        "  - Realiza los cambios en el código necesarios de acuerdo a las instrucciones de la actividad y responde a las preguntas que se indican en dichas instrucciones."
      ]
    },
    {
      "cell_type": "code",
      "execution_count": 9,
      "metadata": {
        "colab": {
          "base_uri": "https://localhost:8080/"
        },
        "id": "VB3J_3zZCDYg",
        "outputId": "e1b80c23-1640-42fd-b6e5-8fa60bb69b24"
      },
      "outputs": [],
      "source": [
        "# Instalación de las librerias\n",
        "!pip install ucimlrepo\n",
        "!pip install mlxtend"
      ]
    },
    {
      "cell_type": "code",
      "execution_count": 5,
      "metadata": {
        "colab": {
          "base_uri": "https://localhost:8080/",
          "height": 206
        },
        "id": "9TGeIPCZUv3F",
        "outputId": "70d025e4-1559-4789-add3-63609719c3d7"
      },
      "outputs": [
        {
          "data": {
            "text/html": [
              "<div>\n",
              "<style scoped>\n",
              "    .dataframe tbody tr th:only-of-type {\n",
              "        vertical-align: middle;\n",
              "    }\n",
              "\n",
              "    .dataframe tbody tr th {\n",
              "        vertical-align: top;\n",
              "    }\n",
              "\n",
              "    .dataframe thead th {\n",
              "        text-align: right;\n",
              "    }\n",
              "</style>\n",
              "<table border=\"1\" class=\"dataframe\">\n",
              "  <thead>\n",
              "    <tr style=\"text-align: right;\">\n",
              "      <th></th>\n",
              "      <th>age</th>\n",
              "      <th>trestbps</th>\n",
              "      <th>chol</th>\n",
              "      <th>thalach</th>\n",
              "      <th>oldpeak</th>\n",
              "      <th>ca</th>\n",
              "    </tr>\n",
              "  </thead>\n",
              "  <tbody>\n",
              "    <tr>\n",
              "      <th>0</th>\n",
              "      <td>63</td>\n",
              "      <td>145</td>\n",
              "      <td>233</td>\n",
              "      <td>150</td>\n",
              "      <td>2.3</td>\n",
              "      <td>0.0</td>\n",
              "    </tr>\n",
              "    <tr>\n",
              "      <th>1</th>\n",
              "      <td>67</td>\n",
              "      <td>160</td>\n",
              "      <td>286</td>\n",
              "      <td>108</td>\n",
              "      <td>1.5</td>\n",
              "      <td>3.0</td>\n",
              "    </tr>\n",
              "    <tr>\n",
              "      <th>2</th>\n",
              "      <td>67</td>\n",
              "      <td>120</td>\n",
              "      <td>229</td>\n",
              "      <td>129</td>\n",
              "      <td>2.6</td>\n",
              "      <td>2.0</td>\n",
              "    </tr>\n",
              "    <tr>\n",
              "      <th>3</th>\n",
              "      <td>37</td>\n",
              "      <td>130</td>\n",
              "      <td>250</td>\n",
              "      <td>187</td>\n",
              "      <td>3.5</td>\n",
              "      <td>0.0</td>\n",
              "    </tr>\n",
              "    <tr>\n",
              "      <th>4</th>\n",
              "      <td>41</td>\n",
              "      <td>130</td>\n",
              "      <td>204</td>\n",
              "      <td>172</td>\n",
              "      <td>1.4</td>\n",
              "      <td>0.0</td>\n",
              "    </tr>\n",
              "  </tbody>\n",
              "</table>\n",
              "</div>"
            ],
            "text/plain": [
              "   age  trestbps  chol  thalach  oldpeak   ca\n",
              "0   63       145   233      150      2.3  0.0\n",
              "1   67       160   286      108      1.5  3.0\n",
              "2   67       120   229      129      2.6  2.0\n",
              "3   37       130   250      187      3.5  0.0\n",
              "4   41       130   204      172      1.4  0.0"
            ]
          },
          "execution_count": 5,
          "metadata": {},
          "output_type": "execute_result"
        }
      ],
      "source": [
        "# Lectura de los datos desde el repositorio UCI\n",
        "from ucimlrepo import fetch_ucirepo\n",
        "import pandas as pd\n",
        "\n",
        "# fetch dataset\n",
        "heart_disease = fetch_ucirepo(id=45)\n",
        "\n",
        "# data (as pandas dataframes)\n",
        "dfX = heart_disease.data.features\n",
        "dfY = heart_disease.data.targets\n",
        "df = pd.concat([dfX, dfY], axis=1)\n",
        "df = df.dropna()\n",
        "dfX = df[['age','trestbps','chol','thalach','oldpeak','ca']]\n",
        "dfY = df['num']\n",
        "dfX.head()"
      ]
    },
    {
      "cell_type": "code",
      "execution_count": 6,
      "metadata": {
        "colab": {
          "base_uri": "https://localhost:8080/",
          "height": 51
        },
        "id": "TNI5A56nVDt4",
        "outputId": "a960864a-b270-4d98-ef01-f9b3c7df8fec"
      },
      "outputs": [
        {
          "data": {
            "text/html": [
              "<style>#sk-container-id-2 {color: black;}#sk-container-id-2 pre{padding: 0;}#sk-container-id-2 div.sk-toggleable {background-color: white;}#sk-container-id-2 label.sk-toggleable__label {cursor: pointer;display: block;width: 100%;margin-bottom: 0;padding: 0.3em;box-sizing: border-box;text-align: center;}#sk-container-id-2 label.sk-toggleable__label-arrow:before {content: \"▸\";float: left;margin-right: 0.25em;color: #696969;}#sk-container-id-2 label.sk-toggleable__label-arrow:hover:before {color: black;}#sk-container-id-2 div.sk-estimator:hover label.sk-toggleable__label-arrow:before {color: black;}#sk-container-id-2 div.sk-toggleable__content {max-height: 0;max-width: 0;overflow: hidden;text-align: left;background-color: #f0f8ff;}#sk-container-id-2 div.sk-toggleable__content pre {margin: 0.2em;color: black;border-radius: 0.25em;background-color: #f0f8ff;}#sk-container-id-2 input.sk-toggleable__control:checked~div.sk-toggleable__content {max-height: 200px;max-width: 100%;overflow: auto;}#sk-container-id-2 input.sk-toggleable__control:checked~label.sk-toggleable__label-arrow:before {content: \"▾\";}#sk-container-id-2 div.sk-estimator input.sk-toggleable__control:checked~label.sk-toggleable__label {background-color: #d4ebff;}#sk-container-id-2 div.sk-label input.sk-toggleable__control:checked~label.sk-toggleable__label {background-color: #d4ebff;}#sk-container-id-2 input.sk-hidden--visually {border: 0;clip: rect(1px 1px 1px 1px);clip: rect(1px, 1px, 1px, 1px);height: 1px;margin: -1px;overflow: hidden;padding: 0;position: absolute;width: 1px;}#sk-container-id-2 div.sk-estimator {font-family: monospace;background-color: #f0f8ff;border: 1px dotted black;border-radius: 0.25em;box-sizing: border-box;margin-bottom: 0.5em;}#sk-container-id-2 div.sk-estimator:hover {background-color: #d4ebff;}#sk-container-id-2 div.sk-parallel-item::after {content: \"\";width: 100%;border-bottom: 1px solid gray;flex-grow: 1;}#sk-container-id-2 div.sk-label:hover label.sk-toggleable__label {background-color: #d4ebff;}#sk-container-id-2 div.sk-serial::before {content: \"\";position: absolute;border-left: 1px solid gray;box-sizing: border-box;top: 0;bottom: 0;left: 50%;z-index: 0;}#sk-container-id-2 div.sk-serial {display: flex;flex-direction: column;align-items: center;background-color: white;padding-right: 0.2em;padding-left: 0.2em;position: relative;}#sk-container-id-2 div.sk-item {position: relative;z-index: 1;}#sk-container-id-2 div.sk-parallel {display: flex;align-items: stretch;justify-content: center;background-color: white;position: relative;}#sk-container-id-2 div.sk-item::before, #sk-container-id-2 div.sk-parallel-item::before {content: \"\";position: absolute;border-left: 1px solid gray;box-sizing: border-box;top: 0;bottom: 0;left: 50%;z-index: -1;}#sk-container-id-2 div.sk-parallel-item {display: flex;flex-direction: column;z-index: 1;position: relative;background-color: white;}#sk-container-id-2 div.sk-parallel-item:first-child::after {align-self: flex-end;width: 50%;}#sk-container-id-2 div.sk-parallel-item:last-child::after {align-self: flex-start;width: 50%;}#sk-container-id-2 div.sk-parallel-item:only-child::after {width: 0;}#sk-container-id-2 div.sk-dashed-wrapped {border: 1px dashed gray;margin: 0 0.4em 0.5em 0.4em;box-sizing: border-box;padding-bottom: 0.4em;background-color: white;}#sk-container-id-2 div.sk-label label {font-family: monospace;font-weight: bold;display: inline-block;line-height: 1.2em;}#sk-container-id-2 div.sk-label-container {text-align: center;}#sk-container-id-2 div.sk-container {/* jupyter's `normalize.less` sets `[hidden] { display: none; }` but bootstrap.min.css set `[hidden] { display: none !important; }` so we also need the `!important` here to be able to override the default hidden behavior on the sphinx rendered scikit-learn.org. See: https://github.com/scikit-learn/scikit-learn/issues/21755 */display: inline-block !important;position: relative;}#sk-container-id-2 div.sk-text-repr-fallback {display: none;}</style><div id=\"sk-container-id-2\" class=\"sk-top-container\"><div class=\"sk-text-repr-fallback\"><pre>RandomForestClassifier(random_state=0)</pre><b>In a Jupyter environment, please rerun this cell to show the HTML representation or trust the notebook. <br />On GitHub, the HTML representation is unable to render, please try loading this page with nbviewer.org.</b></div><div class=\"sk-container\" hidden><div class=\"sk-item\"><div class=\"sk-estimator sk-toggleable\"><input class=\"sk-toggleable__control sk-hidden--visually\" id=\"sk-estimator-id-2\" type=\"checkbox\" checked><label for=\"sk-estimator-id-2\" class=\"sk-toggleable__label sk-toggleable__label-arrow\">RandomForestClassifier</label><div class=\"sk-toggleable__content\"><pre>RandomForestClassifier(random_state=0)</pre></div></div></div></div></div>"
            ],
            "text/plain": [
              "RandomForestClassifier(random_state=0)"
            ]
          },
          "execution_count": 6,
          "metadata": {},
          "output_type": "execute_result"
        }
      ],
      "source": [
        "from sklearn.linear_model import LogisticRegression\n",
        "from sklearn.ensemble import RandomForestClassifier\n",
        "import numpy as np\n",
        "\n",
        "# Aprendizaje del modelo random forest\n",
        "X = dfX.values\n",
        "y = np.ravel(dfY.values)\n",
        "\n",
        "clf = RandomForestClassifier(random_state=0)\n",
        "clf.fit(X, y)"
      ]
    },
    {
      "cell_type": "code",
      "execution_count": 47,
      "metadata": {
        "colab": {
          "base_uri": "https://localhost:8080/"
        },
        "id": "8-QsvTY7RUwf",
        "outputId": "7cf5d2c5-0987-4c98-c87f-3c592501aca0"
      },
      "outputs": [
        {
          "name": "stdout",
          "output_type": "stream",
          "text": [
            "True label: 1\n",
            "Predicted label: 1\n",
            "Predicted probas: [[0.06 0.79 0.07 0.04 0.04]]\n",
            "True label: 1\n",
            "Predicted label: 1\n",
            "Predicted probas: [[0.02 0.72 0.07 0.19 0.  ]]\n",
            "True label: 1\n",
            "Predicted label: 2\n",
            "Predicted probas: [[0.03 0.06 0.82 0.07 0.02]]\n"
          ]
        }
      ],
      "source": [
        "from mlxtend.evaluate import create_counterfactual\n",
        "\n",
        "# Predicción para los ejemplos\n",
        "TO_PREDICT = [2, 55, 65]\n",
        "\n",
        "for indice in TO_PREDICT:\n",
        "\n",
        "    x_ref = X[indice]\n",
        "\n",
        "    print('True label:', y[55])\n",
        "    print('Predicted label:', clf.predict(x_ref.reshape(1, -1))[0])\n",
        "    print('Predicted probas:', clf.predict_proba(x_ref.reshape(1, -1)))"
      ]
    },
    {
      "cell_type": "code",
      "execution_count": 44,
      "metadata": {
        "colab": {
          "base_uri": "https://localhost:8080/"
        },
        "id": "dvJo-G8I4G5L",
        "outputId": "7c6e690e-945b-433f-f4d3-7611cb279b6a"
      },
      "outputs": [
        {
          "name": "stdout",
          "output_type": "stream",
          "text": [
            "Lambda value: 2\n",
            "Features of the 55th example: [ 54.  124.  266.  109.    2.2   1. ]\n",
            "Features of the countefactual: [ 54. 124. 266. 155.  -0.   0.]\n",
            "Predictions for counterfactual:\n",
            "\n",
            "Predicted label: 0\n",
            "Predicted probas: [[0.85 0.13 0.   0.02 0.  ]]\n"
          ]
        }
      ],
      "source": [
        "threshold = 0.8\n",
        "desired_class = 0\n",
        "desired_proba = 1.0\n",
        "original_prob = clf.predict_proba(x_ref.reshape(1, -1))[0][desired_class]\n",
        "\n",
        "x_ref = X[55]\n",
        "\n",
        "for lambda_value in range(1, 21, 1):\n",
        "    # Búsqueda de un contraejemplo\n",
        "    res = create_counterfactual(x_reference=x_ref,\n",
        "                                y_desired=desired_class,\n",
        "                                model=clf,\n",
        "                                X_dataset=X,\n",
        "                                y_desired_proba=desired_proba,\n",
        "                                lammbda=lambda_value, #  hyperparameter\n",
        "                                random_seed=123)\n",
        "    \n",
        "    # Ajustar el número de decimales\n",
        "    for i in range(np.shape(res)[0]):\n",
        "        if i==5:\n",
        "            res[i] = round(res[i], 1)\n",
        "        else:\n",
        "            res[i] = round(res[i], 0)\n",
        "\n",
        "    # Condición de parada\n",
        "    predicted_prob = clf.predict_proba(res.reshape(1, -1))[0][desired_class]\n",
        "    if predicted_prob >= threshold:\n",
        "        break\n",
        "    \n",
        "print(f\"Lambda value: {lambda_value}\")\n",
        "\n",
        "print('Features of the 55th example:', x_ref)\n",
        "print('Features of the countefactual:', res)\n",
        "\n",
        "print('Predictions for counterfactual:\\n')\n",
        "predicted_label = clf.predict(res.reshape(1, -1))[0]\n",
        "assert predicted_label == 0\n",
        "print('Predicted label:', predicted_label)\n",
        "\n",
        "Predicted_probas = clf.predict_proba(res.reshape(1, -1))\n",
        "print('Predicted probas:', Predicted_probas)"
      ]
    },
    {
      "cell_type": "code",
      "execution_count": 37,
      "metadata": {},
      "outputs": [
        {
          "name": "stdout",
          "output_type": "stream",
          "text": [
            "Máximos\n",
            "age          77.0\n",
            "trestbps    200.0\n",
            "chol        564.0\n",
            "thalach     202.0\n",
            "oldpeak       6.2\n",
            "ca            3.0\n",
            "dtype: float64\n",
            "\n",
            "Mínimos\n",
            "age          29.0\n",
            "trestbps     94.0\n",
            "chol        126.0\n",
            "thalach      71.0\n",
            "oldpeak       0.0\n",
            "ca            0.0\n",
            "dtype: float64\n"
          ]
        }
      ],
      "source": [
        "# Máximos y mínimos para comprobar si los valores están dentro de los rangos\n",
        "print(\"Máximos:\")\n",
        "print(dfX.max())\n",
        "print(\"\\nMínimos:\")\n",
        "print(dfX.min())"
      ]
    },
    {
      "cell_type": "code",
      "execution_count": 49,
      "metadata": {},
      "outputs": [
        {
          "name": "stdout",
          "output_type": "stream",
          "text": [
            "Indice: 2\n",
            "Lambda value: 13\n",
            "Features of the 2th example: [ 67.  120.  229.  129.    2.6   2. ]\n",
            "Features of the countefactual: [ 56. 120. 227. 148.   0.   0.]\n",
            "Predicted label: 0\n",
            "Predicted probas: [[0.94 0.06 0.   0.   0.  ]]\n",
            "-------------------------\n",
            "Indice: 55\n",
            "Lambda value: 2\n",
            "Features of the 55th example: [ 54.  124.  266.  109.    2.2   1. ]\n",
            "Features of the countefactual: [ 54. 124. 266. 155.  -0.   0.]\n",
            "Predicted label: 0\n",
            "Predicted probas: [[0.85 0.13 0.   0.02 0.  ]]\n",
            "-------------------------\n",
            "Indice: 65\n",
            "Lambda value: 9\n",
            "Features of the 65th example: [ 60.  145.  282.  142.    2.8   2. ]\n",
            "Features of the countefactual: [ 60. 139. 199. 143.  -0.   0.]\n",
            "Predicted label: 0\n",
            "Predicted probas: [[0.83 0.14 0.02 0.   0.01]]\n",
            "-------------------------\n"
          ]
        }
      ],
      "source": [
        "threshold = 0.8\n",
        "desired_class = 0\n",
        "desired_proba = 1.0\n",
        "\n",
        "for indice in TO_PREDICT:\n",
        "    for lambda_value in range(1, 21, 1):\n",
        "        # Búsqueda de un contraejemplo\n",
        "        res = create_counterfactual(x_reference=X[indice],\n",
        "                                    y_desired=desired_class,\n",
        "                                    model=clf,\n",
        "                                    X_dataset=X,\n",
        "                                    y_desired_proba=desired_proba,\n",
        "                                    lammbda=lambda_value, #  hyperparameter\n",
        "                                    random_seed=123)\n",
        "        \n",
        "        # Ajustar el número de decimales\n",
        "        for i in range(np.shape(res)[0]):\n",
        "            if i==5:\n",
        "                res[i] = round(res[i], 1)\n",
        "            else:\n",
        "                res[i] = round(res[i], 0)\n",
        "\n",
        "        \n",
        "        predicted_prob = clf.predict_proba(res.reshape(1, -1))[0][desired_class]\n",
        "        if predicted_prob >= threshold:\n",
        "            break\n",
        "    \n",
        "    print(f\"Indice: {indice}\")\n",
        "    print(f\"Lambda value: {lambda_value}\")\n",
        "\n",
        "    print(f'Features of the {indice}th example:', X[indice])\n",
        "    print('Features of the countefactual:', res)\n",
        "\n",
        "    predicted_label = clf.predict(res.reshape(1, -1))[0]\n",
        "    assert predicted_label == 0\n",
        "    print('Predicted label:', predicted_label)\n",
        "\n",
        "    predicted_probas = clf.predict_proba(res.reshape(1, -1))\n",
        "    print('Predicted probas:', predicted_probas)\n",
        "\n",
        "    print(\"-\"*25)"
      ]
    },
    {
      "cell_type": "code",
      "execution_count": 59,
      "metadata": {},
      "outputs": [
        {
          "name": "stdout",
          "output_type": "stream",
          "text": [
            "0,34\t0,45\t0,3\t0,27\t\n",
            "0,35\t0,45\t0,31\t0,28\t\n",
            "0,37\t0,45\t0,32\t0,28\t\n",
            "0,35\t0,45\t0,32\t0,28\t\n",
            "0,36\t0,43\t0,31\t0,28\t\n",
            "0,38\t0,4\t0,27\t0,25\t\n",
            "0,35\t0,33\t0,24\t0,22\t\n",
            "0,35\t0,33\t0,24\t0,22\t\n",
            "0,28\t0,3\t0,21\t0,2\t\n",
            "0,28\t0,23\t0,16\t0,14\t\n",
            "0,24\t0,22\t0,16\t0,14\t\n",
            "0,27\t0,22\t0,16\t0,14\t\n",
            "0,29\t0,22\t0,16\t0,15\t\n",
            "0,29\t0,22\t0,16\t0,15\t\n",
            "0,3\t0,21\t0,15\t0,14\t\n",
            "0,3\t0,25\t0,18\t0,17\t\n",
            "0,29\t0,24\t0,17\t0,16\t\n",
            "0,28\t0,21\t0,17\t0,14\t\n",
            "0,28\t0,21\t0,17\t0,14\t\n",
            "0,29\t0,18\t0,14\t0,12\t\n",
            "0,28\t0,11\t0,08\t0,07\t\n",
            "0,28\t0,11\t0,08\t0,07\t\n",
            "0,28\t0,09\t0,06\t0,06\t\n",
            "0,29\t0,1\t0,07\t0,06\t\n",
            "0,3\t0,1\t0,05\t0,04\t\n",
            "0,26\t0,08\t0,04\t0,03\t\n",
            "0,27\t0,07\t0,03\t0,02\t\n",
            "0,28\t0,07\t0,03\t0,02\t\n",
            "0,28\t0,07\t0,03\t0,02\t\n",
            "0,27\t0,06\t0,02\t0,01\t\n",
            "0,27\t0,06\t0,02\t0,01\t\n"
          ]
        }
      ],
      "source": [
        "# Contraejemplos de forma manual solo cambiando 2 características\n",
        "casos = [\n",
        "    [67, 120, 229, 129, 2.6, 2],\n",
        "    [54, 124, 266, 109, .2, 1],\n",
        "    [60, 145, 282, 142, 2.8, 2]\n",
        "]\n",
        "\n",
        "for caso in casos:\n",
        "    print(f\"Caso: {caso}\")\n",
        "    for _1 in range(0, 31, 1):\n",
        "        for _2 in range(0, 4, 1):\n",
        "            the_new = caso.copy()\n",
        "            the_new[-2] = _1/10\n",
        "            the_new[-1] = _2\n",
        "\n",
        "            print(\n",
        "                str(clf.predict_proba(np.array(the_new).reshape(1, -1))[0][0]).replace(\".\", \",\"),\n",
        "                end = \"\\t\"\n",
        "            )\n",
        "        print(\"\")\n",
        "    print(\"\\n\\n\")"
      ]
    }
  ],
  "metadata": {
    "colab": {
      "provenance": []
    },
    "kernelspec": {
      "display_name": "Python 3",
      "name": "python3"
    },
    "language_info": {
      "codemirror_mode": {
        "name": "ipython",
        "version": 3
      },
      "file_extension": ".py",
      "mimetype": "text/x-python",
      "name": "python",
      "nbconvert_exporter": "python",
      "pygments_lexer": "ipython3",
      "version": "3.9.9"
    }
  },
  "nbformat": 4,
  "nbformat_minor": 0
}
