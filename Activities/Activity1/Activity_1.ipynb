{
  "cells": [
    {
      "cell_type": "markdown",
      "metadata": {
        "id": "KZhfrzAAVD-T"
      },
      "source": [
        "# XAI - Actividad 1\n",
        "\n",
        "Grupo 1:\n",
        "<ul>\n",
        "<li>Lidia Abad Azcutia</li>\n",
        "<li>Sergio Arroni del Riego</li>\n",
        "<li>David González Fernández</li>\n",
        "</ul>"
      ]
    },
    {
      "cell_type": "code",
      "execution_count": 1,
      "metadata": {
        "cellView": "form",
        "id": "o9h_y88PZF7K"
      },
      "outputs": [],
      "source": [
        "#@title Imports\n",
        "from math import factorial as fact\n",
        "from typing import Dict, List, Tuple, Generator\n",
        "from itertools import combinations"
      ]
    },
    {
      "cell_type": "code",
      "execution_count": 2,
      "metadata": {
        "cellView": "form",
        "id": "NXqBvYw8X-4k"
      },
      "outputs": [],
      "source": [
        "#@title Helper functions to do the activity 1\n",
        "\"\"\"Generator for all the combinations except the tuple D\"\"\"\n",
        "def get_all_combinations(individuals: List[int]) -> Generator[Tuple[int, ...], None, None]:\n",
        "  for size in range(0, len(individuals)):\n",
        "    for combination in combinations(individuals, size):\n",
        "      yield combination\n",
        "\n",
        "\n",
        "\"\"\"Returns the weighting for a given combination\"\"\"\n",
        "def get_weighting(size_S: int, size_d: int) -> float:\n",
        "  weighting = (fact(size_S) * fact(size_d - 1 - size_S)) / (fact(size_d))\n",
        "  return weighting\n",
        "\n",
        "\n",
        "\"\"\"Gets the contribution of a given individual to a particular subset\"\"\"\n",
        "def get_contribution(i: int, tuple_without_i: Tuple[int, ...], get_value) -> int:\n",
        "  value_without_i: int = get_value(tuple_without_i)\n",
        "  assert len(tuple_without_i)>0  or  value_without_i==0, \"Value of empty != 0\"\n",
        "\n",
        "  tuple_with_i: Tuple[int, ...] = (i,) + tuple_without_i\n",
        "  value_with_i: int = get_value(tuple_with_i)\n",
        "\n",
        "  return value_with_i - value_without_i\n",
        "\n",
        "\n",
        "\"\"\"Calculates the credit for each individual in the game\"\"\"\n",
        "def get_credits(individuals: List[int], get_value) -> Dict[int, float]:\n",
        "  assert len(individuals) > 0, \"Individual list if empty\"\n",
        "\n",
        "  credits: Dict[int, float] = {individual:0 for individual in individuals}\n",
        "\n",
        "  for combination in get_all_combinations(individuals):\n",
        "    weight = get_weighting(len(combination), len(individuals))\n",
        "    assert weight >= 0\n",
        "\n",
        "    for individual in filter(lambda i : i not in combination, individuals):\n",
        "      contribution = get_contribution(individual, combination, get_value)\n",
        "      credits[individual] += weight*contribution\n",
        "\n",
        "  expected: int = get_value(individuals) - get_value(())\n",
        "  actual = sum(credits.values())\n",
        "  # epsilon to account for errors when using float values\n",
        "  epsilon = 1e-10\n",
        "  assert expected-epsilon <= actual <= expected+epsilon\n",
        "\n",
        "  return credits\n",
        "\n",
        "\n",
        "\"\"\"Given the credit dict, prints the credits\"\"\"\n",
        "def print_credits(credits: Dict[int, float]):\n",
        "  for (individual, value) in credits.items():\n",
        "    print(f\"Individual: {individual} -> Credit: {value}\")"
      ]
    },
    {
      "cell_type": "markdown",
      "metadata": {
        "id": "H1-ljMjOVOFA"
      },
      "source": [
        "## Ejercicio 1\n",
        "Calcula el valor Shapley para todos los jugadores $i ∈ \\{1, 2, 3\\}$ en el siguiente juego cooperativo v(S):\n",
        "\n",
        "![Shapley_juego1.png](data:image/png;base64,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)"
      ]
    },
    {
      "cell_type": "code",
      "execution_count": 3,
      "metadata": {
        "cellView": "form",
        "id": "iX95F1-macQO"
      },
      "outputs": [],
      "source": [
        "#@title Initialize the 1st problem\n",
        "individuals_1: Tuple[int, ...] = (1, 2, 3)\n",
        "\n",
        "values_1: Dict[Tuple[int, ...], int] = {\n",
        "    (): 0,\n",
        "    (1,): 1,\n",
        "    (2,): 1,\n",
        "    (3,): 1,\n",
        "    (1,2): 2,\n",
        "    (1,3): 2,\n",
        "    (2,3): 2,\n",
        "    (1,2,3): 3\n",
        "}\n",
        "\n",
        "def get_values_1(subset: Tuple[int, ...]) -> int:\n",
        "  subset = tuple(sorted(subset))\n",
        "  return values_1[subset]\n"
      ]
    },
    {
      "cell_type": "code",
      "execution_count": 4,
      "metadata": {
        "cellView": "form",
        "colab": {
          "base_uri": "https://localhost:8080/"
        },
        "id": "glTw7ybJnzUU",
        "outputId": "215ddc9c-69ba-4532-ab2a-75c5350213cf"
      },
      "outputs": [
        {
          "name": "stdout",
          "output_type": "stream",
          "text": [
            "Individual: 1 -> Credit: 1.0\n",
            "Individual: 2 -> Credit: 1.0\n",
            "Individual: 3 -> Credit: 1.0\n"
          ]
        }
      ],
      "source": [
        "#@title Get solution to the 1st problem\n",
        "credits_1 = get_credits(individuals_1, get_values_1)\n",
        "print_credits(credits_1)"
      ]
    },
    {
      "cell_type": "markdown",
      "metadata": {
        "id": "LJ1B7iZ8VPjD"
      },
      "source": [
        "## Ejercicio 2\n",
        "Calcula el valor Shapley para todos los jugadores $i ∈ \\{1, 2, 3\\}$ en el siguiente juego cooperativo v(S):\n",
        "\n",
        "$v(S) = x_1 + 2 \\cdot x_2 + 3 \\cdot x_3$\n",
        "\n",
        ", donde $x_i$ son variables binarias siendo $x_i = 1$ si $i ∈ S$ y $0$ si no."
      ]
    },
    {
      "cell_type": "code",
      "execution_count": 5,
      "metadata": {
        "cellView": "form",
        "id": "tkbmREtRad1K"
      },
      "outputs": [],
      "source": [
        "#@title Initialize the 2nd problem\n",
        "individuals_2: Tuple[int, ...] = (1, 2, 3)\n",
        "\n",
        "def get_values_2(subset: Tuple[int, ...]) -> int:\n",
        "  x_values = [1 if i in subset else 0 for i in individuals_2]\n",
        "\n",
        "  res = x_values[0]\n",
        "  res += 2*x_values[1]\n",
        "  res += 3*x_values[2]\n",
        "\n",
        "  return res"
      ]
    },
    {
      "cell_type": "code",
      "execution_count": 6,
      "metadata": {
        "cellView": "form",
        "colab": {
          "base_uri": "https://localhost:8080/"
        },
        "id": "cYIoZLqEt2Gd",
        "outputId": "b80e3610-be2c-488d-90b5-5ae6c8d3b921"
      },
      "outputs": [
        {
          "name": "stdout",
          "output_type": "stream",
          "text": [
            "Individual: 1 -> Credit: 1.0\n",
            "Individual: 2 -> Credit: 2.0\n",
            "Individual: 3 -> Credit: 3.0\n"
          ]
        }
      ],
      "source": [
        "#@title Get solution to the 2nd problem\n",
        "credits_2 = get_credits(individuals_2, get_values_2)\n",
        "print_credits(credits_2)"
      ]
    },
    {
      "cell_type": "markdown",
      "metadata": {
        "id": "69ERu8IKVQs8"
      },
      "source": [
        "## Ejercicio 3\n",
        "Calcula el valor Shapley para todos los jugadores $i ∈ \\{1, 2, 3, 4, 5\\}$ en el siguiente juego cooperativo v(S):\n",
        "\n",
        "$v(S) = x_1 + x_3 + 2 \\cdot x_4 + 3 \\cdot x_1 \\cdot x_2 + 5 \\cdot x_2 \\cdot x_5 - 10 \\cdot x_1 \\cdot x_2 \\cdot x_4$\n",
        "\n",
        ", donde $x_i$ son variables binarias siendo $x_i = 1$ si $i ∈ S$ y $0$ si no."
      ]
    },
    {
      "cell_type": "code",
      "execution_count": 7,
      "metadata": {
        "cellView": "form",
        "id": "xsiNUHxLaeRE"
      },
      "outputs": [],
      "source": [
        "#@title Initialize the 3rd problem\n",
        "individuals_3: Tuple[int, ...] = (1, 2, 3, 4, 5)\n",
        "\n",
        "def get_values_3(subset: Tuple[int, ...]) -> int:\n",
        "  x_values = [1 if i in subset else 0 for i in individuals_3]\n",
        "\n",
        "  res = x_values[0]\n",
        "  res += x_values[2]\n",
        "  res += 2*x_values[3]\n",
        "  res += 3*x_values[0]*x_values[1]\n",
        "  res += 5*x_values[1]*x_values[4]\n",
        "  res -= 10*x_values[0]*x_values[1]*x_values[3]\n",
        "\n",
        "  return res"
      ]
    },
    {
      "cell_type": "code",
      "execution_count": 8,
      "metadata": {
        "cellView": "form",
        "colab": {
          "base_uri": "https://localhost:8080/"
        },
        "id": "pp0BvzVQuYeq",
        "outputId": "0ad9dd3a-c8af-4089-c52a-eb468a8749b0"
      },
      "outputs": [
        {
          "name": "stdout",
          "output_type": "stream",
          "text": [
            "Individual: 1 -> Credit: -0.8333333333333335\n",
            "Individual: 2 -> Credit: 0.6666666666666666\n",
            "Individual: 3 -> Credit: 1.0000000000000002\n",
            "Individual: 4 -> Credit: -1.3333333333333337\n",
            "Individual: 5 -> Credit: 2.5\n"
          ]
        }
      ],
      "source": [
        "#@title Get solution to the 3rd problem\n",
        "credits_3 = get_credits(individuals_3, get_values_3)\n",
        "print_credits(credits_3)"
      ]
    }
  ],
  "metadata": {
    "colab": {
      "provenance": [],
      "toc_visible": true
    },
    "kernelspec": {
      "display_name": "Python 3",
      "name": "python3"
    },
    "language_info": {
      "codemirror_mode": {
        "name": "ipython",
        "version": 3
      },
      "file_extension": ".py",
      "mimetype": "text/x-python",
      "name": "python",
      "nbconvert_exporter": "python",
      "pygments_lexer": "ipython3",
      "version": "3.12.0"
    }
  },
  "nbformat": 4,
  "nbformat_minor": 0
}
